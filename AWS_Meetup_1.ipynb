{
 "cells": [
  {
   "cell_type": "markdown",
   "metadata": {},
   "source": [
    "### AWS Meetup 1: AI/ML Users Meetup ###\n",
    "\n",
    "Meet-up held in Arthaland BGC. \n",
    "\n",
    "Organizer: Emil from Info Alchemy\n",
    "\n",
    "Speaker: Pedro Paez, Solutions Architect based in Singapore"
   ]
  },
  {
   "cell_type": "markdown",
   "metadata": {},
   "source": [
    "#### Segment 1: AI Centerpiece for Digital Transformation ####\n",
    "\n",
    "1. Short History of AI\n",
    "2. The Amazon ML Stack \n",
    "           \n",
    "        * AI Services\n",
    "        * ML Services\n",
    "        * ML Frameworks + Infrastructure\n",
    "3. Amazon Sagemaker \n",
    "\n",
    "        (Collect and prepare training data, choose and optimize your ML algorithm, set up and manage environments for training, train and tune the model (trial and error), deploy model in production, scale and manage the production environment)\n",
    "\n",
    "        Nothing Almer hasn't already mentioned in his brown bag\n",
    "4. The Best Place to run Tensorflow\n",
    "5. Fueling product innovation\n",
    "        \n",
    "        Intuit - reduce cycle of implementation from 6 months to 1 week\n",
    "6. Put AI to Work for your Business\n",
    "\n",
    "        Modernize your contact center to improve customer service\n",
    "        Automate media workflows to reduce costs and monetize content\n",
    "        Understand the voice of your customer\n",
    "        Personalize customer experiences with targeted recommendations\n",
    "        Increase efficiency with automated document analysis\n",
    "        \n",
    "7. Culture\n",
    "        \n",
    "        Create the loop - connect technology initiatives with business outcomes\n",
    "        Advance your data strategy - Assess your structured and unstructured data sources\n",
    "        Organize for success - Put machine learning in the hands of your developers\n",
    "8. How we can help\n",
    "        \n",
    "        ML Solutions Lab\n",
    "        Machine Learning Training and Certification\n",
    "        Partner Ecosystem\n",
    "        "
   ]
  },
  {
   "cell_type": "code",
   "execution_count": null,
   "metadata": {},
   "outputs": [],
   "source": []
  }
 ],
 "metadata": {
  "kernelspec": {
   "display_name": "Python 3",
   "language": "python",
   "name": "python3"
  },
  "language_info": {
   "codemirror_mode": {
    "name": "ipython",
    "version": 3
   },
   "file_extension": ".py",
   "mimetype": "text/x-python",
   "name": "python",
   "nbconvert_exporter": "python",
   "pygments_lexer": "ipython3",
   "version": "3.7.3"
  }
 },
 "nbformat": 4,
 "nbformat_minor": 2
}
